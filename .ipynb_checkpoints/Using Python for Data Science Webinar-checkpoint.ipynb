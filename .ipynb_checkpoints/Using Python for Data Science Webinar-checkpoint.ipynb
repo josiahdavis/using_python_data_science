{
 "cells": [
  {
   "cell_type": "markdown",
   "metadata": {},
   "source": [
    "# Using Python for Data Science\n",
    "Python is a versatile and widely-used programming language with many applications. This webinar explores how to use Python for data science, and is designed as an introduction to the analytical capabilities of Python programming."
   ]
  },
  {
   "cell_type": "markdown",
   "metadata": {},
   "source": [
    "**Agenda**\n",
    "1. How do I write and execute a Python script? *An introduction to the IPython notebook.*\n",
    "2. What can I do with Python? *An overview of 6 python packages every Data Scientist should know about: NumPy, Pandas, Beautiful Soup, Matplotlib, StatsModels, Scikit-Learn*\n",
    "3. How do I get started with real data? *Example of reading, writing, and summarizing data with the pandas library.*\n",
    "4. How do I learn Python for Data Science? *Resources and tips for accelerating your learning path.*"
   ]
  },
  {
   "cell_type": "markdown",
   "metadata": {},
   "source": [
    "**About the Instructor**\n",
    "                                          \n",
    "<img src=\"profile.jpg\" width=\"300\"> Josiah Davis works as a data scientist out of Slalom’s San Francisco office. Josiah's professional experience spans Machine Learning, Natural Language Processing, General Linear Modeling, Survival Analysis, Forecasting, and Data Visualization. In addition to client work, Josiah is a conference speaker, data science instructor and mentor. Previously, Josiah graduated from the University of Maryland with a Bachelor's degree in Mechanical Engineering. Josiah can found online [@josiahjdavis](https://twitter.com/josiahjdavis)."
   ]
  },
  {
   "cell_type": "markdown",
   "metadata": {},
   "source": [
    "# 1) How do I write and execute a Python script?\n",
    "There are many tools for developing python scripts. For this webinar, we will be executing everything using the Jupyter notebook. For those of you who are new to Jupyter project, here are some items that you should know about it."
   ]
  },
  {
   "cell_type": "markdown",
   "metadata": {},
   "source": [
    "**Item #0: Jupyter notebooks are a great way to develop and share code**\n",
    "\n",
    "Here is the definition from the [Jupyter project website](http://jupyter.org/).\n",
    "\n",
    "> The Jupyter Notebook is a web application that allows you to create and share documents that contain live code, equations, visualizations and explanatory text. Uses include: data cleaning and transformation, numerical simulation, statistical modeling, machine learning and much more."
   ]
  },
  {
   "cell_type": "markdown",
   "metadata": {},
   "source": [
    "**Item #1: Jupyter notebooks are organized into cells, which can contain markdown or code** \n",
    "\n",
    "This is a cell with markdown"
   ]
  },
  {
   "cell_type": "code",
   "execution_count": null,
   "metadata": {
    "collapsed": false
   },
   "outputs": [],
   "source": [
    "# This is a cell with code\n",
    "def simple_calculator(first_number, second_number):\n",
    "    return first_number + second_number\n",
    "simple_calculator(5, 6)"
   ]
  },
  {
   "cell_type": "markdown",
   "metadata": {},
   "source": [
    "**Item #2: Their are two modes of interacting with cells in a Jupyter notebook: Command and Edit**\n",
    "\n",
    "* *Command* is useful for skimming through a notebook, executing cells, and changing between code and markdown.\n",
    "* *Edit* is useful for developing code and writing markdown"
   ]
  },
  {
   "cell_type": "markdown",
   "metadata": {},
   "source": [
    "** Item #3: There are many useful keyboard shortcuts which are commonly used** \n",
    "\n",
    "Here are some shortcuts I use a lot. To get the full list go to *Help* -> *Keyboard Shortcuts*. "
   ]
  },
  {
   "cell_type": "markdown",
   "metadata": {},
   "source": [
    "|          | Mac    | PC    |\n",
    "|:----------|:--------|:-------|\n",
    "| **Command Mode**  | esc    |       |\n",
    "| Delete   | d, d     |       |\n",
    "| Markdown   | m     |       |\n",
    "| Run Cell   | control, return    |       |\n",
    "| Run Cell and Insert Below   | option, return    |       |\n",
    "| Insert Above   | a    |       |\n",
    "| Insert Below   | b    |       |\n",
    "| **Edit Mode**     | return | Enter |\n",
    "| Run Cell | control, return     |       |\n",
    "| Run Cell and Insert Below   | option, return    |       |"
   ]
  },
  {
   "cell_type": "markdown",
   "metadata": {},
   "source": [
    "**Item #5: Use ```Shift + Tab``` for help**"
   ]
  },
  {
   "cell_type": "markdown",
   "metadata": {},
   "source": [
    "* `Shit + Tab 1x` Gives you abbreviated help\n",
    "* `Shit + Tab 2x` Gives you full help\n",
    "* `Shit + Tab 4x` Gives you full help in separate window"
   ]
  },
  {
   "cell_type": "code",
   "execution_count": null,
   "metadata": {
    "collapsed": false
   },
   "outputs": [],
   "source": [
    "import numpy as np\n",
    "np.linspace(2, 3, 10)"
   ]
  },
  {
   "cell_type": "markdown",
   "metadata": {},
   "source": [
    "**Item #5: The [NBViewer](https://nbviewer.jupyter.org/) is a great way to explore and share notebooks**"
   ]
  },
  {
   "cell_type": "markdown",
   "metadata": {},
   "source": [
    "**Item #6: Type ```jupyter notebook``` into the command line or terminal to start up your own notebook application**\n",
    "\n",
    "This will do two things, it will start the python kernal which will need to be running in the background, and it will launch the notebook web application."
   ]
  },
  {
   "cell_type": "markdown",
   "metadata": {},
   "source": [
    "**Item #7: The Jupyter project supports many languages, including Python, R, Julia, and Scala.**\n",
    "\n",
    "Here is a [link](https://nbviewer.jupyter.org/github/ipython/ipython/blob/4.0.x/examples/Notebook/Index.ipynb) to more information about the Jupyter Project. Previously Jupyter notebooks were called IPython notebooks, but as support has expanded past Python, this name has been replaced."
   ]
  },
  {
   "cell_type": "markdown",
   "metadata": {},
   "source": [
    "# 2) What can I do with Python?"
   ]
  },
  {
   "cell_type": "markdown",
   "metadata": {},
   "source": [
    "Here are some of the most commonly used pacakges for Data Science in python, and what they are used for:\n",
    "* *NumPy*: Analysis with arrays\n",
    "* *Pandas*: Analysis with dataframes\n",
    "* *Beautiful Soup*: Web Scraping\n",
    "* *Matplotlib*: Data visualizations\n",
    "* *StatsModels*: Statistical Modeling\n",
    "* *NLTK*: Natural Language Processing\n",
    "* *Scikit Learn*: Machine Learning"
   ]
  },
  {
   "cell_type": "markdown",
   "metadata": {},
   "source": [
    "![NumPy](numpy.png)"
   ]
  },
  {
   "cell_type": "markdown",
   "metadata": {},
   "source": [
    "**Package #1: [NumPy](http://www.numpy.org/)** is used for data analysis with arrays. A NumPy array is a homogeneously typed n-dimensional array (i.e., you can't have strings and integers in the same array, for instance). Here are some examples of a NumPy array:\n",
    "\n",
    "```\n",
    "array([[ 0.        ,  0.36363636],\n",
    "       [ 0.72727273,  1.09090909],\n",
    "       [ 1.45454545,  1.81818182],\n",
    "       [ 2.18181818,  2.54545455],\n",
    "       [ 2.90909091,  3.27272727],\n",
    "       [ 3.63636364,  4.        ]])\n",
    "```"
   ]
  },
  {
   "cell_type": "markdown",
   "metadata": {},
   "source": [
    "![Pandas](pandas2.png)"
   ]
  },
  {
   "cell_type": "markdown",
   "metadata": {},
   "source": [
    "**Package #2: [Pandas](http://pandas.pydata.org/pandas-docs/stable/10min.html) is the main python package for data manipulation.** Pandas most common data structure is a heterogeneous typed 2D array with row and column labels. Here is an example of a pandas dataframe:\n",
    "\n",
    "|          | revenue    | company    |\n",
    "|:----------|:--------|:-------|\n",
    "| 2013-01-01  | 100    |   A    |\n",
    "| 2013-01-02   | 230     |   A    |\n",
    "| 2013-01-03   | 506     |   A    |\n",
    "| 2013-01-01  | 111    |   B    |\n",
    "| 2013-01-02   | 451     |   B    |\n",
    "| 2013-01-03   | 210     |   B    |\n",
    "\n",
    "Pandas is a very powerful tool: It handles time well, it has a powerful group-by-engine, and it comes with intuitive indexing."
   ]
  },
  {
   "cell_type": "markdown",
   "metadata": {},
   "source": [
    "<img src=\"beautiful_soup.png\" width=\"300\">"
   ]
  },
  {
   "cell_type": "markdown",
   "metadata": {},
   "source": [
    "**Package #3: [Beautiful Soup](https://www.crummy.com/software/BeautifulSoup/bs4/doc/) is the python package for web-scraping.** Here is an example of the data that one might get from the internet:\n",
    "\n",
    "```\n",
    "<html><head><title>The Dormouse's story</title></head>\n",
    "<body>\n",
    "<p class=\"title\"><b>The Dormouse's story</b></p>\n",
    "\n",
    "<p class=\"story\">Once upon a time there were three little sisters; and their names were\n",
    "<a href=\"http://example.com/elsie\" class=\"sister\" id=\"link1\">Elsie</a>,\n",
    "<a href=\"http://example.com/lacie\" class=\"sister\" id=\"link2\">Lacie</a> and\n",
    "<a href=\"http://example.com/tillie\" class=\"sister\" id=\"link3\">Tillie</a>;\n",
    "and they lived at the bottom of a well.</p>\n",
    "\n",
    "<p class=\"story\">...</p>\n",
    "```\n"
   ]
  },
  {
   "cell_type": "markdown",
   "metadata": {},
   "source": [
    "![Pandas](matplotlib2.png)"
   ]
  },
  {
   "cell_type": "markdown",
   "metadata": {},
   "source": [
    "**Package #4: Matplotlib is a package for doing data visualizations.** \n",
    "\n",
    "Matplotlib is not the only option for data visualizations. [Bokeh](http://bokeh.pydata.org/en/latest/) is growing in popularity and so is [seaborn](https://stanford.edu/~mwaskom/software/seaborn/). Pandas also has some limited visualization capabilities.\n"
   ]
  },
  {
   "cell_type": "markdown",
   "metadata": {},
   "source": [
    "![Pandas](statsmodels.png)"
   ]
  },
  {
   "cell_type": "markdown",
   "metadata": {},
   "source": [
    "**Package #5: StatsModels is a useful package for doing general linear modeling.** Here is an example of what an output looks like."
   ]
  },
  {
   "cell_type": "markdown",
   "metadata": {},
   "source": [
    "```\n",
    "OLS Regression Results\n",
    "==============================================================================\n",
    "Dep. Variable:                      y   R-squared:                       1.000\n",
    "Model:                            OLS   Adj. R-squared:                  1.000\n",
    "Method:                 Least Squares   F-statistic:                 4.020e+06\n",
    "Date:                Sun, 01 Feb 2015   Prob (F-statistic):          2.83e-239\n",
    "Time:                        09:32:32   Log-Likelihood:                -146.51\n",
    "No. Observations:                 100   AIC:                             299.0\n",
    "Df Residuals:                      97   BIC:                             306.8\n",
    "Df Model:                           2\n",
    "Covariance Type:            nonrobust\n",
    "==============================================================================\n",
    "                 coef    std err          t      P>|t|      [95.0% Conf. Int.]\n",
    "------------------------------------------------------------------------------\n",
    "const          1.3423      0.313      4.292      0.000         0.722     1.963\n",
    "x1            -0.0402      0.145     -0.278      0.781        -0.327     0.247\n",
    "x2            10.0103      0.014    715.745      0.000         9.982    10.038\n",
    "==============================================================================\n",
    "Omnibus:                        2.042   Durbin-Watson:                   2.274\n",
    "Prob(Omnibus):                  0.360   Jarque-Bera (JB):                1.875\n",
    "Skew:                           0.234   Prob(JB):                        0.392\n",
    "Kurtosis:                       2.519   Cond. No.                         144.\n",
    "==============================================================================\n",
    "```"
   ]
  },
  {
   "cell_type": "markdown",
   "metadata": {},
   "source": [
    "![Pandas](scikitlearn.png)"
   ]
  },
  {
   "cell_type": "markdown",
   "metadata": {},
   "source": [
    "**Package #6: scikit-learn is a package for doing Meachine learning.**\n",
    "\n",
    "scikit-learn can do a wide variety of supervised and unsupervised machine learning tasks including linear modeling, tree-based modeling, dimension reduction, clustering. Additionally, scikit learn can perform cross-validation, bootstrapping, data pre-processing, and natural language processing."
   ]
  },
  {
   "cell_type": "markdown",
   "metadata": {},
   "source": [
    "# 3) How do I get started with real data?"
   ]
  },
  {
   "cell_type": "markdown",
   "metadata": {},
   "source": [
    "The data used consists of credit card defaults. This dataset was taken from the [UC Irvine Machine Learning Repository](http://archive.ics.uci.edu/ml/datasets/default+of+credit+card+clients)"
   ]
  },
  {
   "cell_type": "code",
   "execution_count": null,
   "metadata": {
    "collapsed": true
   },
   "outputs": [],
   "source": [
    "# Let's import some of these packages\n",
    "import pandas as pd\n",
    "import numpy as np\n",
    "import statsmodels.formula.api as smf\n",
    "import matplotlib.pyplot as plt\n",
    "from sklearn.cross_validation import train_test_split"
   ]
  },
  {
   "cell_type": "code",
   "execution_count": null,
   "metadata": {
    "collapsed": false
   },
   "outputs": [],
   "source": [
    "# Call the magic function to view plots in notebook\n",
    "%matplotlib inline"
   ]
  },
  {
   "cell_type": "code",
   "execution_count": null,
   "metadata": {
    "collapsed": false
   },
   "outputs": [],
   "source": [
    "# Read data into memory\n",
    "d = pd.read_excel('default of credit card clients.xls', index_col = 'ID', skiprows=1)"
   ]
  },
  {
   "cell_type": "code",
   "execution_count": null,
   "metadata": {
    "collapsed": false
   },
   "outputs": [],
   "source": [
    "# Check the data types\n",
    "d.dtypes"
   ]
  },
  {
   "cell_type": "code",
   "execution_count": null,
   "metadata": {
    "collapsed": false
   },
   "outputs": [],
   "source": [
    "# View first couple of rows\n",
    "d.head()"
   ]
  },
  {
   "cell_type": "code",
   "execution_count": null,
   "metadata": {
    "collapsed": false
   },
   "outputs": [],
   "source": [
    "# Describe the numeric columns\n",
    "d.describe()"
   ]
  },
  {
   "cell_type": "code",
   "execution_count": null,
   "metadata": {
    "collapsed": false
   },
   "outputs": [],
   "source": [
    "# Rename a column\n",
    "d.rename(columns={'default payment next month': 'default'}, inplace=True)"
   ]
  },
  {
   "cell_type": "code",
   "execution_count": null,
   "metadata": {
    "collapsed": true
   },
   "outputs": [],
   "source": [
    "# Transform codes into meaningful values\n",
    "d['SEX'] = d['SEX'].replace({1: 'M', 2: 'F'})"
   ]
  },
  {
   "cell_type": "code",
   "execution_count": null,
   "metadata": {
    "collapsed": true
   },
   "outputs": [],
   "source": [
    "# Split the data into train and test sets\n",
    "train, test = train_test_split(d,test_size=0.3, random_state=1)"
   ]
  },
  {
   "cell_type": "code",
   "execution_count": null,
   "metadata": {
    "collapsed": false
   },
   "outputs": [],
   "source": [
    "# Select column and perform aggregation\n",
    "train['default'].mean()"
   ]
  },
  {
   "cell_type": "code",
   "execution_count": null,
   "metadata": {
    "collapsed": false,
    "scrolled": true
   },
   "outputs": [],
   "source": [
    "# Perform aggregation over categorical variables\n",
    "train.groupby('SEX').default.mean()"
   ]
  },
  {
   "cell_type": "code",
   "execution_count": null,
   "metadata": {
    "collapsed": false
   },
   "outputs": [],
   "source": [
    "# Transform codes into meaningful values\n",
    "d['SEX'] = d['SEX'].replace({1: 'M', 2: 'F'})\n",
    "d.groupby('SEX').default.mean()"
   ]
  },
  {
   "cell_type": "code",
   "execution_count": null,
   "metadata": {
    "collapsed": false
   },
   "outputs": [],
   "source": [
    "# Create a scatter plot of the age vs. limit balance\n",
    "train.plot(x='LIMIT_BAL', y='AGE', kind='scatter', alpha=0.05)\n",
    "plt.ylim([10,85]); plt.xlim([0, 800000])"
   ]
  },
  {
   "cell_type": "code",
   "execution_count": null,
   "metadata": {
    "collapsed": false
   },
   "outputs": [],
   "source": [
    "# Mark defaults with a different color and symbol\n",
    "train_nd = train[train.default == 0]\n",
    "train_d = train[train.default == 1]\n",
    "plt.figure()\n",
    "plt.scatter(train_d.LIMIT_BAL, train_d.AGE, alpha = .3, marker='o', edgecolors = 'r', facecolors = 'none')\n",
    "plt.scatter(train_nd.LIMIT_BAL, train_nd.AGE, alpha = .2, marker='+', edgecolors = 'b', c= 'b')\n",
    "plt.ylim([10,85]); plt.xlim([0, 800000])\n",
    "plt.legend( ('default', 'no default'), loc='upper right')"
   ]
  },
  {
   "cell_type": "code",
   "execution_count": null,
   "metadata": {
    "collapsed": false
   },
   "outputs": [],
   "source": [
    "# Run a logistic regression on the balance variable\n",
    "balance = smf.logit('default ~ AGE + LIMIT_BAL', data = train).fit()\n",
    "balance.summary()"
   ]
  },
  {
   "cell_type": "code",
   "execution_count": null,
   "metadata": {
    "collapsed": false,
    "scrolled": true
   },
   "outputs": [],
   "source": [
    "# Create predictions with the fitted model\n",
    "predictions = balance.predict(test)\n",
    "predictions"
   ]
  },
  {
   "cell_type": "markdown",
   "metadata": {},
   "source": [
    "# 4) How do I learn Python for Data Science?\n",
    "\n",
    "**Here is a simple recipe that I would recommend:**\n",
    "1. Download the [Anaconda Distribution](https://www.continuum.io/downloads) of Python 3.x\n",
    "2. Go through python software foudnation website [base python tutorial](https://docs.python.org/3/tutorial/index.html)\n",
    "3. Run through [10 minutes to pandas](http://pandas.pydata.org/pandas-docs/stable/10min.html) tutorial\n",
    "4. Pick a data science problem that you would like to use python to solve\n",
    "5. Learn the necessary techniques to solve that particular problem\n",
    "6. Repeat"
   ]
  },
  {
   "cell_type": "markdown",
   "metadata": {},
   "source": [
    "** Here are a couple of additional tips**"
   ]
  },
  {
   "cell_type": "markdown",
   "metadata": {},
   "source": [
    "**Tip #1: Learn from the documentation**\n",
    "\n",
    "**Tip #2: Concepts first, code second**\n",
    "\n",
    "**Tip #3: Start with pandas**"
   ]
  }
 ],
 "metadata": {
  "kernelspec": {
   "display_name": "Python 3",
   "language": "python",
   "name": "python3"
  },
  "language_info": {
   "codemirror_mode": {
    "name": "ipython",
    "version": 3
   },
   "file_extension": ".py",
   "mimetype": "text/x-python",
   "name": "python",
   "nbconvert_exporter": "python",
   "pygments_lexer": "ipython3",
   "version": "3.5.1"
  }
 },
 "nbformat": 4,
 "nbformat_minor": 0
}
